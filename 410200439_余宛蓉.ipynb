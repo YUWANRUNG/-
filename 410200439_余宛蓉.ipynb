{
  "nbformat": 4,
  "nbformat_minor": 0,
  "metadata": {
    "colab": {
      "name": "410200439 余宛蓉.ipynb",
      "provenance": [],
      "authorship_tag": "ABX9TyOpsm9NJzRSDfyC+j/Egbgk",
      "include_colab_link": true
    },
    "kernelspec": {
      "name": "python3",
      "display_name": "Python 3"
    },
    "language_info": {
      "name": "python"
    }
  },
  "cells": [
    {
      "cell_type": "markdown",
      "metadata": {
        "id": "view-in-github",
        "colab_type": "text"
      },
      "source": [
        "<a href=\"https://colab.research.google.com/github/YUWANRUNG/-/blob/main/410200439_%E4%BD%99%E5%AE%9B%E8%93%89.ipynb\" target=\"_parent\"><img src=\"https://colab.research.google.com/assets/colab-badge.svg\" alt=\"Open In Colab\"/></a>"
      ]
    },
    {
      "cell_type": "code",
      "execution_count": null,
      "metadata": {
        "colab": {
          "base_uri": "https://localhost:8080/"
        },
        "id": "0tzFySgBUbRC",
        "outputId": "f649d019-55be-4131-dca2-ce2272e86eca"
      },
      "outputs": [
        {
          "output_type": "stream",
          "name": "stdout",
          "text": [
            "1\n",
            "2\n",
            "3\n"
          ]
        }
      ],
      "source": [
        "a=1\n",
        "b=2\n",
        "print(a)\n",
        "print(b)\n",
        "print(a+b)\n"
      ]
    },
    {
      "cell_type": "code",
      "source": [
        "hw1=[82,84,68,76,82]\n",
        "hw2=[90,75,88,63,57]\n",
        "hw3=[67,85,90,98,77]\n",
        "\n",
        "hw_all=[[82,84,68,76,82],[90,75,88,63,57],[67,85,90,98,77]]\n",
        "\n",
        "\n",
        "hw_all1=[[[90,75,88,63,57],[67,85,90,98,77]],[90,75,88,63,57],[67,85,90,98,77]]\n",
        "print(hw_all1[0][0][0])"
      ],
      "metadata": {
        "colab": {
          "base_uri": "https://localhost:8080/"
        },
        "id": "Lv0cFAr4ki8s",
        "outputId": "26cb3f50-d425-47e6-acd8-7c628002997a"
      },
      "execution_count": null,
      "outputs": [
        {
          "output_type": "stream",
          "name": "stdout",
          "text": [
            "90\n"
          ]
        }
      ]
    },
    {
      "cell_type": "code",
      "source": [
        "a=2\n",
        "b=5\n",
        "h=3\n",
        "print((a+b)*h/2)"
      ],
      "metadata": {
        "colab": {
          "base_uri": "https://localhost:8080/"
        },
        "id": "GZ8gOY5L7roY",
        "outputId": "6eff77a2-d974-4efa-8f6c-a5f489c378b0"
      },
      "execution_count": null,
      "outputs": [
        {
          "output_type": "stream",
          "name": "stdout",
          "text": [
            "10.5\n"
          ]
        }
      ]
    },
    {
      "cell_type": "code",
      "source": [
        "a=2\n",
        "b=3\n",
        "c=1\n",
        "x=(-b+(b**2-4*a*c)**0.5)/(2*a)\n",
        "y=(-b-(b**2-4*a*c)**0.5)/(2*a)\n",
        "print(x)\n",
        "print(y)"
      ],
      "metadata": {
        "colab": {
          "base_uri": "https://localhost:8080/"
        },
        "id": "_5UypJynZJBe",
        "outputId": "e646cfb7-4666-4c76-aadf-05194e0c167d"
      },
      "execution_count": null,
      "outputs": [
        {
          "output_type": "stream",
          "name": "stdout",
          "text": [
            "-0.5\n",
            "-1.0\n"
          ]
        }
      ]
    },
    {
      "cell_type": "code",
      "source": [
        "print(\"請輸入a\")\n",
        "a=int(input())\n",
        "\n",
        "print(\"請輸入b\")\n",
        "b=int(input())\n",
        "\n",
        "print(\"請輸入c\")\n",
        "c=int(input())\n",
        "\n",
        "x=(-b+(b**2-4*a*c)**0.5)/(2*a)\n",
        "y=(-b-(b**2-4*a*c)**0.5)/(2*a)\n",
        "print(x)\n",
        "print(y)\n"
      ],
      "metadata": {
        "colab": {
          "base_uri": "https://localhost:8080/"
        },
        "id": "jjb37Lyre6Zk",
        "outputId": "26c21d5b-7b28-494b-8b09-084d17708e63"
      },
      "execution_count": null,
      "outputs": [
        {
          "output_type": "stream",
          "name": "stdout",
          "text": [
            "請輸入a\n",
            "2\n",
            "請輸入b\n",
            "3\n",
            "請輸入c\n",
            "1\n",
            "-0.5\n",
            "-1.0\n"
          ]
        }
      ]
    },
    {
      "cell_type": "code",
      "source": [
        "a1=input(\"吃麵?\")\n",
        "\n",
        "if a1==\"是\":\n",
        "  a2=input(\"喝湯?\")\n",
        "  if a2==\"是\":\n",
        "    print(\"牛肉麵\")\n",
        "  else:\n",
        "    print(\"麻醬麵\")\n",
        "else:\n",
        "  a3=input(\"重口味?\")\n",
        "  if a3==\"是\":\n",
        "    print(\"豬腳飯\")\n",
        "  else:\n",
        "    print(\"海鮮粥\")"
      ],
      "metadata": {
        "colab": {
          "base_uri": "https://localhost:8080/"
        },
        "id": "yDpVvHhh8Bz7",
        "outputId": "84d9c20d-6abb-4f79-bf00-d8094b866356"
      },
      "execution_count": null,
      "outputs": [
        {
          "output_type": "stream",
          "name": "stdout",
          "text": [
            "吃麵?是\n",
            "喝湯?是\n",
            "牛肉麵\n"
          ]
        }
      ]
    },
    {
      "cell_type": "code",
      "source": [
        "i=\"是\"\n",
        "\n",
        "\n",
        "while i!=\"是\":\n",
        "  print(\"跑這裡\")\n",
        "print(\"是--->跑這裡\")"
      ],
      "metadata": {
        "colab": {
          "base_uri": "https://localhost:8080/"
        },
        "id": "hYUIu-T4rjVs",
        "outputId": "b88ebff2-feca-4267-cbc2-764aacb11db1"
      },
      "execution_count": null,
      "outputs": [
        {
          "output_type": "stream",
          "name": "stdout",
          "text": [
            "是--->跑這裡\n"
          ]
        }
      ]
    },
    {
      "cell_type": "code",
      "source": [
        "password=46\n",
        "enter=int(input(\"輸入密碼\"))\n",
        "\n",
        "while enter != password:\n",
        "  if enter > password:\n",
        "    print(\"太大\")\n",
        "  else:\n",
        "    print(\"太小\")\n",
        "  enter=int(input(\"輸入密碼\"))\n",
        "\n",
        "\n",
        "print(\"猜對啦\")"
      ],
      "metadata": {
        "colab": {
          "base_uri": "https://localhost:8080/"
        },
        "id": "nqRaV6BHppNr",
        "outputId": "a8a7a1f9-dbfa-4a95-fbcb-cb2bf42db5bf"
      },
      "execution_count": null,
      "outputs": [
        {
          "output_type": "stream",
          "name": "stdout",
          "text": [
            "輸入密碼50\n",
            "太大\n",
            "輸入密碼35\n",
            "太小\n",
            "輸入密碼46\n",
            "猜對啦\n"
          ]
        }
      ]
    },
    {
      "cell_type": "code",
      "source": [
        "a=[2,6,1,7,5]\n",
        "#len(a)\n",
        "#max(a)\n",
        "#min(a)\n",
        "#sorted(a)\n",
        "\n",
        "#加入append\n",
        "#a.append(10)\n",
        "#a\n",
        "\n",
        "#找索引index\n",
        "#a.index(5)\n",
        "\n",
        "#特定位置加入insert\n",
        "#a.insert(1,10)\n",
        "#a\n",
        "\n",
        "#刪除值remove\n",
        "#a.remove(1)\n",
        "#a\n",
        "\n",
        "#特定位置刪除pop\n",
        "#a.pop(0)\n",
        "#a\n",
        "\n",
        "#倒轉reverse\n",
        "#a.reverse()\n",
        "#a\n",
        "\n",
        "for i in a:\n",
        "  print(i)\n",
        "print(i)"
      ],
      "metadata": {
        "colab": {
          "base_uri": "https://localhost:8080/"
        },
        "id": "NyGCtQOYv1gH",
        "outputId": "d5887ad0-04bc-43d7-a366-29e3d167473c"
      },
      "execution_count": null,
      "outputs": [
        {
          "output_type": "stream",
          "name": "stdout",
          "text": [
            "2\n",
            "6\n",
            "1\n",
            "7\n",
            "5\n",
            "5\n"
          ]
        }
      ]
    },
    {
      "cell_type": "code",
      "source": [
        "b=[]\n",
        "for i in range(1,14,3):\n",
        "  b.append(i)\n",
        "  print(b)\n",
        "print(b)"
      ],
      "metadata": {
        "colab": {
          "base_uri": "https://localhost:8080/"
        },
        "id": "Y41s3KUg2D8z",
        "outputId": "25d88584-6f0a-4add-9fdd-15b4984d733b"
      },
      "execution_count": null,
      "outputs": [
        {
          "output_type": "stream",
          "name": "stdout",
          "text": [
            "[1]\n",
            "[1, 4]\n",
            "[1, 4, 7]\n",
            "[1, 4, 7, 10]\n",
            "[1, 4, 7, 10, 13]\n",
            "[1, 4, 7, 10, 13]\n"
          ]
        }
      ]
    },
    {
      "cell_type": "code",
      "source": [
        "c=[\"a\",\"b\",\"c\",\"d\",\"e\"]\n",
        "print(len(c))\n",
        "for i in range(len(c)):\n",
        "  print(\"c[\",i,\"]\")\n",
        "  print(c[i])"
      ],
      "metadata": {
        "colab": {
          "base_uri": "https://localhost:8080/"
        },
        "id": "d-jbUqzQ3E_o",
        "outputId": "567762b0-c808-4077-ca3e-14c1d5c398e3"
      },
      "execution_count": null,
      "outputs": [
        {
          "output_type": "stream",
          "name": "stdout",
          "text": [
            "5\n",
            "c[ 0 ]\n",
            "a\n",
            "c[ 1 ]\n",
            "b\n",
            "c[ 2 ]\n",
            "c\n",
            "c[ 3 ]\n",
            "d\n",
            "c[ 4 ]\n",
            "e\n"
          ]
        }
      ]
    },
    {
      "cell_type": "code",
      "source": [
        "for i in range(1,10):\n",
        "  print(f\"i=i*3\")\n",
        "print(\"結束迴圈\")"
      ],
      "metadata": {
        "colab": {
          "base_uri": "https://localhost:8080/"
        },
        "id": "LYf4UcYy0vSK",
        "outputId": "b30c6899-896a-4741-95b8-7360985c57e1"
      },
      "execution_count": null,
      "outputs": [
        {
          "output_type": "stream",
          "name": "stdout",
          "text": [
            "i=i*3\n",
            "i=i*3\n",
            "i=i*3\n",
            "i=i*3\n",
            "i=i*3\n",
            "i=i*3\n",
            "i=i*3\n",
            "i=i*3\n",
            "i=i*3\n",
            "結束迴圈\n"
          ]
        }
      ]
    },
    {
      "cell_type": "code",
      "source": [
        "for i in range(1,3):\n",
        "  print(f\"i-{i}\")\n",
        "  for j in range(4,6):\n",
        "    print(f\"j={j}\")\n",
        "  print(\"跳出\")\n",
        "print(\"結束\")"
      ],
      "metadata": {
        "colab": {
          "base_uri": "https://localhost:8080/"
        },
        "id": "3lGc9t2E1GDS",
        "outputId": "f5634bc6-0f3e-4825-b1a2-6da86fdd63d4"
      },
      "execution_count": null,
      "outputs": [
        {
          "output_type": "stream",
          "name": "stdout",
          "text": [
            "i-1\n",
            "j=4\n",
            "j=5\n",
            "跳出\n",
            "i-2\n",
            "j=4\n",
            "j=5\n",
            "跳出\n",
            "結束\n"
          ]
        }
      ]
    },
    {
      "cell_type": "code",
      "source": [
        "for i in range(1,3):\n",
        "  print(f\"i={i}\")\n",
        "  for j in range(4,6):\n",
        "    print(f\"j={j}\", end=\"\\t\")\n",
        "  print()"
      ],
      "metadata": {
        "colab": {
          "base_uri": "https://localhost:8080/"
        },
        "id": "RbM8HEyn2UM8",
        "outputId": "14ca11de-ad04-4fc9-96b0-640977326e8f"
      },
      "execution_count": null,
      "outputs": [
        {
          "output_type": "stream",
          "name": "stdout",
          "text": [
            "i=1\n",
            "j=4\tj=5\t\n",
            "i=2\n",
            "j=4\tj=5\t\n"
          ]
        }
      ]
    },
    {
      "cell_type": "code",
      "source": [
        "for i in range(1,10):\n",
        "  for j in range(1,10):\n",
        "    print(f\"{j}*{i}={j*i}\", end=\"\\t\")\n",
        "  print()"
      ],
      "metadata": {
        "colab": {
          "base_uri": "https://localhost:8080/"
        },
        "id": "FvL0HWrf3OYe",
        "outputId": "fdcf62e7-6984-4778-f9c7-e9c70dc11f69"
      },
      "execution_count": null,
      "outputs": [
        {
          "output_type": "stream",
          "name": "stdout",
          "text": [
            "1*1=1\t2*1=2\t3*1=3\t4*1=4\t5*1=5\t6*1=6\t7*1=7\t8*1=8\t9*1=9\t\n",
            "1*2=2\t2*2=4\t3*2=6\t4*2=8\t5*2=10\t6*2=12\t7*2=14\t8*2=16\t9*2=18\t\n",
            "1*3=3\t2*3=6\t3*3=9\t4*3=12\t5*3=15\t6*3=18\t7*3=21\t8*3=24\t9*3=27\t\n",
            "1*4=4\t2*4=8\t3*4=12\t4*4=16\t5*4=20\t6*4=24\t7*4=28\t8*4=32\t9*4=36\t\n",
            "1*5=5\t2*5=10\t3*5=15\t4*5=20\t5*5=25\t6*5=30\t7*5=35\t8*5=40\t9*5=45\t\n",
            "1*6=6\t2*6=12\t3*6=18\t4*6=24\t5*6=30\t6*6=36\t7*6=42\t8*6=48\t9*6=54\t\n",
            "1*7=7\t2*7=14\t3*7=21\t4*7=28\t5*7=35\t6*7=42\t7*7=49\t8*7=56\t9*7=63\t\n",
            "1*8=8\t2*8=16\t3*8=24\t4*8=32\t5*8=40\t6*8=48\t7*8=56\t8*8=64\t9*8=72\t\n",
            "1*9=9\t2*9=18\t3*9=27\t4*9=36\t5*9=45\t6*9=54\t7*9=63\t8*9=72\t9*9=81\t\n"
          ]
        }
      ]
    },
    {
      "cell_type": "code",
      "source": [
        "warrior_minion = {\"atk\":80,\"hp\":1300,\"def\":16}\n",
        "distance_minion = {\"atk\":120, \"hp\":485, \"def\":0}\n",
        "minion={\"近戰\":warrior_minion,\"遠程\":distance_minion}\n",
        "print(minion)"
      ],
      "metadata": {
        "colab": {
          "base_uri": "https://localhost:8080/"
        },
        "id": "xcRIyMnl3yPz",
        "outputId": "759ba640-3480-4392-d2a0-2e31017db8a5"
      },
      "execution_count": 9,
      "outputs": [
        {
          "output_type": "stream",
          "name": "stdout",
          "text": [
            "{'近戰': {'atk': 80, 'hp': 1300, 'def': 16}, '遠程': {'atk': 120, 'hp': 485, 'def': 0}}\n"
          ]
        }
      ]
    },
    {
      "cell_type": "code",
      "source": [
        "Amy={\"math\":90,\"language\":95}\n",
        "Betty={\"math\":100,\"language\":97}\n",
        "Cindy={\"math\":85,\"language\":88}\n",
        "Dora={\"math\":77,\"language\":90}\n",
        "Eva={\"math\":93,\"language\":91}\n",
        "class_score = {21:Amy,22:Betty,23:Cindy,24:Dora,25:Eva}\n",
        "print(class_score[23][\"math\"])"
      ],
      "metadata": {
        "colab": {
          "base_uri": "https://localhost:8080/"
        },
        "id": "glS56l3T7mPz",
        "outputId": "553380c6-0aed-4b9d-feb0-a0823d76f55d"
      },
      "execution_count": 13,
      "outputs": [
        {
          "output_type": "stream",
          "name": "stdout",
          "text": [
            "85\n"
          ]
        }
      ]
    },
    {
      "cell_type": "code",
      "source": [
        "def example1(a,b):\n",
        "  ans=a+b\n",
        "  return ans\n",
        "\n",
        "def example_1(a,b):\n",
        "  ans=a*b\n",
        "  return ans\n",
        "\n",
        "x=example1(1,2)\n",
        "print(f\"答案是{x}\")\n",
        "y=example_1(1,2)\n",
        "print(f\"答案是{y}\")"
      ],
      "metadata": {
        "colab": {
          "base_uri": "https://localhost:8080/"
        },
        "id": "HZb9677x6anz",
        "outputId": "92280da2-5a71-4560-fb9a-67855f530298"
      },
      "execution_count": 2,
      "outputs": [
        {
          "output_type": "stream",
          "name": "stdout",
          "text": [
            "答案是3\n",
            "答案是2\n"
          ]
        }
      ]
    },
    {
      "cell_type": "code",
      "source": [
        "def add(a,b):\n",
        "  ans=a+b\n",
        "  return ans\n",
        "\n",
        "x=add(1,2)\n",
        "print(f\"答案是{x}\")"
      ],
      "metadata": {
        "colab": {
          "base_uri": "https://localhost:8080/"
        },
        "id": "pLyJn-p48JQq",
        "outputId": "fcb82d7c-3469-4f1d-ebcb-2afe85f0b85b"
      },
      "execution_count": 3,
      "outputs": [
        {
          "output_type": "stream",
          "name": "stdout",
          "text": [
            "答案是3\n"
          ]
        }
      ]
    },
    {
      "cell_type": "code",
      "source": [
        "def add(a,b):\n",
        "  ans=a+b\n",
        "  return ans\n",
        "\n",
        "def sub(a,b):\n",
        "  ans=a-b\n",
        "  return ans\n",
        "\n",
        "def mul(a,b):\n",
        "  ans=a*b\n",
        "  return ans\n",
        "\n",
        "\n",
        "x=int(input(\"x: \"))\n",
        "y=int(input(\"y: \"))\n",
        "choose=input(\"「加、減、乘」選一個? \")\n",
        "if choose==\"加\":\n",
        "  ans = add(x,y)\n",
        "elif choose==\"減\":\n",
        "  ans = sub(x,y)\n",
        "else:\n",
        "  ans = mul(x,y)\n",
        "print(f\"{x}{choose}{y}={ans}\")"
      ],
      "metadata": {
        "colab": {
          "base_uri": "https://localhost:8080/"
        },
        "id": "iHmVAlaV9iAf",
        "outputId": "6113cacd-bab5-4c35-dafe-4ddc56cd99eb"
      },
      "execution_count": 4,
      "outputs": [
        {
          "output_type": "stream",
          "name": "stdout",
          "text": [
            "x: 3\n",
            "y: 5\n",
            "「加、減、乘」選一個? 減\n",
            "3減5=-2\n"
          ]
        }
      ]
    }
  ]
}